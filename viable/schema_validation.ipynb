{
 "cells": [
  {
   "cell_type": "markdown",
   "source": [
    "# Schema from example"
   ],
   "metadata": {}
  },
  {
   "cell_type": "code",
   "execution_count": 6,
   "source": [
    "oto_data = {\n",
    "        \"_id\" : \"5e3868eb61e48d0017ab68b0\",\n",
    "        \"kind\" : \"OutlierModel\",\n",
    "        \"bt\" : 1580755178368101,\n",
    "        \"tt\" : 0,\n",
    "        \"modelId\" : \"5c1a7b648a6df285f82bdd4f\",\n",
    "        \"distance\" : 204311,\n",
    "        \"closest_centroid\" : 82,\n",
    "        \"outlier_score\" : 90.9653,\n",
    "        \"centroid_rareness\" : 4.26592,\n",
    "        \"is_outlier\" : 1,\n",
    "        \"source\" : \"40FWF4_R-\",\n",
    "        \"account\" : \"analogdevices_dev\"\n",
    "    }\n"
   ],
   "outputs": [],
   "metadata": {}
  },
  {
   "cell_type": "markdown",
   "source": [
    "# Using schema"
   ],
   "metadata": {}
  },
  {
   "cell_type": "markdown",
   "source": [
    "## Validation of a schema"
   ],
   "metadata": {}
  },
  {
   "cell_type": "code",
   "execution_count": 2,
   "source": [
    "from schema import Schema, And, Use, Optional, SchemaError\n",
    "\n",
    "schema = Schema([{'name': And(str, len),\n",
    "                   'age':  And(Use(int), lambda n: 18 <= n <= 99),\n",
    "                   Optional('gender'): And(str, Use(str.lower),\n",
    "                                           lambda s: s in ('squid', 'kid'))}])\n",
    "\n",
    "data = [{'name': 'Sue', 'age': '28', 'gender': 'Squid'},\n",
    "         {'name': 'Sam', 'age': '42'},\n",
    "        {'name': 'Sacha', 'age': '20', 'gender': 'KID'}]\n",
    "\n"
   ],
   "outputs": [],
   "metadata": {}
  },
  {
   "cell_type": "code",
   "execution_count": 3,
   "source": [
    "validated = schema.validate(data)\n",
    "\n",
    "assert validated == [{'name': 'Sue', 'age': 28, 'gender': 'squid'},\n",
    "                      {'name': 'Sam', 'age': 42},\n",
    "                      {'name': 'Sacha', 'age' : 20, 'gender': 'kid'}]"
   ],
   "outputs": [],
   "metadata": {}
  },
  {
   "cell_type": "code",
   "execution_count": 35,
   "source": [
    "\"\"\"{'_id': str,\n",
    " 'kind': str,\n",
    " 'bt': int,\n",
    " 'tt': int,\n",
    " 'modelId': str,\n",
    " 'distance': int,\n",
    " 'closest_centroid': int,\n",
    " 'outlier_score': float,\n",
    " 'centroid_rareness': float,\n",
    " 'is_outlier': int,\n",
    " 'source': str,\n",
    " 'account': str}\n",
    "\"\"\"\n",
    "schema_otosense= Schema([{'_id': str,\n",
    "                          'kind':Use(str),\n",
    "                          'bt': Use(int),\n",
    "                          'tt':Use(int),\n",
    "                          'modelId':Use(str),\n",
    "                          'distance':Use(int),\n",
    "                          'closest_centroid':Use(int),\n",
    "                          'outlier_score':Use(int),\n",
    "                          'centroid_rareness':Use(float),\n",
    "                          'is_outlier':Use(bool),\n",
    "                          'source':Use(str),\n",
    "                          'account':And(str,\n",
    "                                           lambda s: s in ('analogdevices_dev', 'analogdevices_prod'))\n",
    "}])\n",
    "                  "
   ],
   "outputs": [],
   "metadata": {}
  },
  {
   "cell_type": "code",
   "execution_count": 13,
   "source": [
    "schema_otosense.validate([oto_data])"
   ],
   "outputs": [
    {
     "output_type": "execute_result",
     "data": {
      "text/plain": [
       "[{'_id': '5e3868eb61e48d0017ab68b0',\n",
       "  'kind': 'OutlierModel',\n",
       "  'bt': 1580755178368101,\n",
       "  'tt': 0,\n",
       "  'modelId': '5c1a7b648a6df285f82bdd4f',\n",
       "  'distance': 204311,\n",
       "  'closest_centroid': 82,\n",
       "  'outlier_score': 90,\n",
       "  'centroid_rareness': 4.26592,\n",
       "  'is_outlier': True,\n",
       "  'source': '40FWF4_R-',\n",
       "  'account': 'analogdevices_dev'}]"
      ]
     },
     "metadata": {},
     "execution_count": 13
    }
   ],
   "metadata": {}
  },
  {
   "cell_type": "markdown",
   "source": [
    "# Validation using Great expectations"
   ],
   "metadata": {}
  },
  {
   "cell_type": "code",
   "execution_count": 11,
   "source": [
    "import great_expectations as ge\n",
    "import pandas as pd"
   ],
   "outputs": [],
   "metadata": {}
  },
  {
   "cell_type": "code",
   "execution_count": 14,
   "source": [
    "data_list = [{'_id': '5e3868eb61e48d0017ab68b0',\n",
    "  'kind': 'OutlierModel',\n",
    "  'bt': 1580755178368101,\n",
    "  'tt': 0,\n",
    "  'modelId': '5c1a7b648a6df285f82bdd4f',\n",
    "  'distance': 204311,\n",
    "  'closest_centroid': 82,\n",
    "  'outlier_score': 90,\n",
    "  'centroid_rareness': 4.26592,\n",
    "  'is_outlier': True,\n",
    "  'source': '40FWF4_R-',\n",
    "  'account': 'analogdevices_dev'},\n",
    "  {'_id': '4e3868eb61e48d0017ab6898',\n",
    "  'kind': 'OutlierModel',\n",
    "  'bt': 1580755178368156,\n",
    "  'tt': 0,\n",
    "  'modelId': '5c1a7b648a6df285f82bdd4f',\n",
    "  'distance': 204316,\n",
    "  'closest_centroid': 80,\n",
    "  'outlier_score': 10,\n",
    "  'centroid_rareness': 4.26592,\n",
    "  'is_outlier': True,\n",
    "  'source': '40FWF4_R-',\n",
    "  'account': 'analogdevices_dev'},\n",
    "{'_id': '3e3868eb61e48d0017ab6800',\n",
    "  'kind': 'OutlierModel',\n",
    "  'bt': 1580755178368101,\n",
    "  'tt': 0,\n",
    "  'modelId': '5c1a7b648a6df285f82bdd4f',\n",
    "  'distance': 20400,\n",
    "  'closest_centroid': 17,\n",
    "  'outlier_score': 9,\n",
    "  'centroid_rareness': 3.1,\n",
    "  'is_outlier': True,\n",
    "  'source': '40FWF4_R-',\n",
    "  'account': 'analogdevices_prod'}\n",
    "\n",
    "  ]"
   ],
   "outputs": [],
   "metadata": {}
  },
  {
   "cell_type": "code",
   "execution_count": 23,
   "source": [
    "df_csv = pd.DataFrame(data_list).to_csv('data_great_expect.csv')\n",
    "df=ge.read_csv('data_great_expect.csv')"
   ],
   "outputs": [],
   "metadata": {}
  },
  {
   "cell_type": "code",
   "execution_count": 24,
   "source": [
    "df"
   ],
   "outputs": [
    {
     "output_type": "execute_result",
     "data": {
      "text/html": [
       "<div><div id=06a4886d-68d0-43e2-ac83-749cc44ad7a7 style=\"display:none; background-color:#9D6CFF; color:white; width:200px; height:30px; padding-left:5px; border-radius:4px; flex-direction:row; justify-content:space-around; align-items:center;\" onmouseover=\"this.style.backgroundColor='#BA9BF8'\" onmouseout=\"this.style.backgroundColor='#9D6CFF'\" onclick=\"window.commands?.execute('create-mitosheet-from-dataframe-output');\">See Full Dataframe in Mito</div> <script> if (window.commands.hasCommand('create-mitosheet-from-dataframe-output')) document.getElementById('06a4886d-68d0-43e2-ac83-749cc44ad7a7').style.display = 'flex' </script> <table border=\"1\" class=\"dataframe\">\n",
       "  <thead>\n",
       "    <tr style=\"text-align: right;\">\n",
       "      <th></th>\n",
       "      <th>Unnamed: 0</th>\n",
       "      <th>_id</th>\n",
       "      <th>kind</th>\n",
       "      <th>bt</th>\n",
       "      <th>tt</th>\n",
       "      <th>modelId</th>\n",
       "      <th>distance</th>\n",
       "      <th>closest_centroid</th>\n",
       "      <th>outlier_score</th>\n",
       "      <th>centroid_rareness</th>\n",
       "      <th>is_outlier</th>\n",
       "      <th>source</th>\n",
       "      <th>account</th>\n",
       "    </tr>\n",
       "  </thead>\n",
       "  <tbody>\n",
       "    <tr>\n",
       "      <th>0</th>\n",
       "      <td>0</td>\n",
       "      <td>5e3868eb61e48d0017ab68b0</td>\n",
       "      <td>OutlierModel</td>\n",
       "      <td>1580755178368101</td>\n",
       "      <td>0</td>\n",
       "      <td>5c1a7b648a6df285f82bdd4f</td>\n",
       "      <td>204311</td>\n",
       "      <td>82</td>\n",
       "      <td>90</td>\n",
       "      <td>4.26592</td>\n",
       "      <td>True</td>\n",
       "      <td>40FWF4_R-</td>\n",
       "      <td>analogdevices_dev</td>\n",
       "    </tr>\n",
       "    <tr>\n",
       "      <th>1</th>\n",
       "      <td>1</td>\n",
       "      <td>4e3868eb61e48d0017ab6898</td>\n",
       "      <td>OutlierModel</td>\n",
       "      <td>1580755178368156</td>\n",
       "      <td>0</td>\n",
       "      <td>5c1a7b648a6df285f82bdd4f</td>\n",
       "      <td>204316</td>\n",
       "      <td>80</td>\n",
       "      <td>10</td>\n",
       "      <td>4.26592</td>\n",
       "      <td>True</td>\n",
       "      <td>40FWF4_R-</td>\n",
       "      <td>analogdevices_dev</td>\n",
       "    </tr>\n",
       "    <tr>\n",
       "      <th>2</th>\n",
       "      <td>2</td>\n",
       "      <td>3e3868eb61e48d0017ab6800</td>\n",
       "      <td>OutlierModel</td>\n",
       "      <td>1580755178368101</td>\n",
       "      <td>0</td>\n",
       "      <td>5c1a7b648a6df285f82bdd4f</td>\n",
       "      <td>20400</td>\n",
       "      <td>17</td>\n",
       "      <td>9</td>\n",
       "      <td>3.10000</td>\n",
       "      <td>True</td>\n",
       "      <td>40FWF4_R-</td>\n",
       "      <td>analogdevices_prod</td>\n",
       "    </tr>\n",
       "  </tbody>\n",
       "</table></div>"
      ],
      "text/plain": [
       "   Unnamed: 0                       _id          kind                bt  tt  \\\n",
       "0           0  5e3868eb61e48d0017ab68b0  OutlierModel  1580755178368101   0   \n",
       "1           1  4e3868eb61e48d0017ab6898  OutlierModel  1580755178368156   0   \n",
       "2           2  3e3868eb61e48d0017ab6800  OutlierModel  1580755178368101   0   \n",
       "\n",
       "                    modelId  distance  closest_centroid  outlier_score  \\\n",
       "0  5c1a7b648a6df285f82bdd4f    204311                82             90   \n",
       "1  5c1a7b648a6df285f82bdd4f    204316                80             10   \n",
       "2  5c1a7b648a6df285f82bdd4f     20400                17              9   \n",
       "\n",
       "   centroid_rareness  is_outlier     source             account  \n",
       "0            4.26592        True  40FWF4_R-   analogdevices_dev  \n",
       "1            4.26592        True  40FWF4_R-   analogdevices_dev  \n",
       "2            3.10000        True  40FWF4_R-  analogdevices_prod  "
      ]
     },
     "metadata": {},
     "execution_count": 24
    }
   ],
   "metadata": {}
  },
  {
   "cell_type": "code",
   "execution_count": 27,
   "source": [
    "feature_columns = ['kind', 'bt', 'tt','modelId', 'distance','closest_centroid']\n",
    "for col in feature_columns:\n",
    "    df.expect_column_to_exist(col)\n",
    "\n",
    "df.expect_column_values_to_be_of_type('kind', 'str')"
   ],
   "outputs": [
    {
     "output_type": "execute_result",
     "data": {
      "text/plain": [
       "{\n",
       "  \"result\": {\n",
       "    \"element_count\": 3,\n",
       "    \"missing_count\": 0,\n",
       "    \"missing_percent\": 0.0,\n",
       "    \"unexpected_count\": 0,\n",
       "    \"unexpected_percent\": 0.0,\n",
       "    \"unexpected_percent_total\": 0.0,\n",
       "    \"unexpected_percent_nonmissing\": 0.0,\n",
       "    \"partial_unexpected_list\": []\n",
       "  },\n",
       "  \"meta\": {},\n",
       "  \"success\": true,\n",
       "  \"exception_info\": {\n",
       "    \"raised_exception\": false,\n",
       "    \"exception_traceback\": null,\n",
       "    \"exception_message\": null\n",
       "  }\n",
       "}"
      ]
     },
     "metadata": {},
     "execution_count": 27
    }
   ],
   "metadata": {}
  },
  {
   "cell_type": "code",
   "execution_count": 28,
   "source": [
    "df.get_expectation_suite()"
   ],
   "outputs": [
    {
     "output_type": "stream",
     "name": "stderr",
     "text": [
      "\t7 expectation(s) included in expectation_suite. result_format settings filtered.\n"
     ]
    },
    {
     "output_type": "execute_result",
     "data": {
      "text/plain": [
       "{\n",
       "  \"meta\": {\n",
       "    \"great_expectations_version\": \"0.13.38\"\n",
       "  },\n",
       "  \"expectations\": [\n",
       "    {\n",
       "      \"kwargs\": {\n",
       "        \"column\": \"kind\"\n",
       "      },\n",
       "      \"expectation_type\": \"expect_column_to_exist\",\n",
       "      \"meta\": {},\n",
       "      \"ge_cloud_id\": null\n",
       "    },\n",
       "    {\n",
       "      \"kwargs\": {\n",
       "        \"column\": \"bt\"\n",
       "      },\n",
       "      \"expectation_type\": \"expect_column_to_exist\",\n",
       "      \"meta\": {},\n",
       "      \"ge_cloud_id\": null\n",
       "    },\n",
       "    {\n",
       "      \"kwargs\": {\n",
       "        \"column\": \"tt\"\n",
       "      },\n",
       "      \"expectation_type\": \"expect_column_to_exist\",\n",
       "      \"meta\": {},\n",
       "      \"ge_cloud_id\": null\n",
       "    },\n",
       "    {\n",
       "      \"kwargs\": {\n",
       "        \"column\": \"modelId\"\n",
       "      },\n",
       "      \"expectation_type\": \"expect_column_to_exist\",\n",
       "      \"meta\": {},\n",
       "      \"ge_cloud_id\": null\n",
       "    },\n",
       "    {\n",
       "      \"kwargs\": {\n",
       "        \"column\": \"distance\"\n",
       "      },\n",
       "      \"expectation_type\": \"expect_column_to_exist\",\n",
       "      \"meta\": {},\n",
       "      \"ge_cloud_id\": null\n",
       "    },\n",
       "    {\n",
       "      \"kwargs\": {\n",
       "        \"column\": \"closest_centroid\"\n",
       "      },\n",
       "      \"expectation_type\": \"expect_column_to_exist\",\n",
       "      \"meta\": {},\n",
       "      \"ge_cloud_id\": null\n",
       "    },\n",
       "    {\n",
       "      \"kwargs\": {\n",
       "        \"column\": \"kind\",\n",
       "        \"type_\": \"str\"\n",
       "      },\n",
       "      \"expectation_type\": \"expect_column_values_to_be_of_type\",\n",
       "      \"meta\": {},\n",
       "      \"ge_cloud_id\": null\n",
       "    }\n",
       "  ],\n",
       "  \"expectation_suite_name\": \"default\",\n",
       "  \"data_asset_type\": \"Dataset\",\n",
       "  \"ge_cloud_id\": null\n",
       "}"
      ]
     },
     "metadata": {},
     "execution_count": 28
    }
   ],
   "metadata": {}
  },
  {
   "cell_type": "markdown",
   "source": [
    "# Generating data from a model"
   ],
   "metadata": {}
  },
  {
   "cell_type": "code",
   "execution_count": 29,
   "source": [
    "from sdv import SDV #synthetic data vault"
   ],
   "outputs": [
    {
     "output_type": "stream",
     "name": "stderr",
     "text": [
      "/Users/sylvain/opt/anaconda3/envs/otopy38/lib/python3.8/site-packages/sktime/transformations/base.py:21: DeprecationWarning: `np.float` is a deprecated alias for the builtin `float`. To silence this warning, use `float` by itself. Doing this will not modify any behavior and is safe. If you specifically wanted the numpy scalar type, use `np.float64` here.\n",
      "Deprecated in NumPy 1.20; for more details and guidance: https://numpy.org/devdocs/release/1.20.0-notes.html#deprecations\n",
      "  Primitive = Union[np.integer, int, np.float, float, str]\n"
     ]
    }
   ],
   "metadata": {}
  },
  {
   "cell_type": "code",
   "execution_count": 34,
   "source": [
    "sdv = SDV()\n",
    "df_data = pd.DataFrame(data_list)\n",
    "sdv.fit(tables =[df_data])"
   ],
   "outputs": [
    {
     "output_type": "error",
     "ename": "TypeError",
     "evalue": "fit() missing 1 required positional argument: 'metadata'",
     "traceback": [
      "\u001b[0;31m---------------------------------------------------------------------------\u001b[0m",
      "\u001b[0;31mTypeError\u001b[0m                                 Traceback (most recent call last)",
      "\u001b[0;32m/var/folders/mg/7pcn75bd72v46_l6x2yrrzdc0000gp/T/ipykernel_9706/699787907.py\u001b[0m in \u001b[0;36m<module>\u001b[0;34m\u001b[0m\n\u001b[1;32m      1\u001b[0m \u001b[0msdv\u001b[0m \u001b[0;34m=\u001b[0m \u001b[0mSDV\u001b[0m\u001b[0;34m(\u001b[0m\u001b[0;34m)\u001b[0m\u001b[0;34m\u001b[0m\u001b[0;34m\u001b[0m\u001b[0m\n\u001b[1;32m      2\u001b[0m \u001b[0mdf_data\u001b[0m \u001b[0;34m=\u001b[0m \u001b[0mpd\u001b[0m\u001b[0;34m.\u001b[0m\u001b[0mDataFrame\u001b[0m\u001b[0;34m(\u001b[0m\u001b[0mdata_list\u001b[0m\u001b[0;34m)\u001b[0m\u001b[0;34m\u001b[0m\u001b[0;34m\u001b[0m\u001b[0m\n\u001b[0;32m----> 3\u001b[0;31m \u001b[0msdv\u001b[0m\u001b[0;34m.\u001b[0m\u001b[0mfit\u001b[0m\u001b[0;34m(\u001b[0m\u001b[0mtables\u001b[0m \u001b[0;34m=\u001b[0m\u001b[0;34m[\u001b[0m\u001b[0mdf_data\u001b[0m\u001b[0;34m]\u001b[0m\u001b[0;34m)\u001b[0m\u001b[0;34m\u001b[0m\u001b[0;34m\u001b[0m\u001b[0m\n\u001b[0m",
      "\u001b[0;31mTypeError\u001b[0m: fit() missing 1 required positional argument: 'metadata'"
     ]
    }
   ],
   "metadata": {}
  },
  {
   "cell_type": "markdown",
   "source": [],
   "metadata": {}
  },
  {
   "cell_type": "code",
   "execution_count": 33,
   "source": [
    "df_data"
   ],
   "outputs": [
    {
     "output_type": "execute_result",
     "data": {
      "text/html": [
       "<div><div id=278ed042-c3e3-43d6-be86-a668f8cdb622 style=\"display:none; background-color:#9D6CFF; color:white; width:200px; height:30px; padding-left:5px; border-radius:4px; flex-direction:row; justify-content:space-around; align-items:center;\" onmouseover=\"this.style.backgroundColor='#BA9BF8'\" onmouseout=\"this.style.backgroundColor='#9D6CFF'\" onclick=\"window.commands?.execute('create-mitosheet-from-dataframe-output');\">See Full Dataframe in Mito</div> <script> if (window.commands.hasCommand('create-mitosheet-from-dataframe-output')) document.getElementById('278ed042-c3e3-43d6-be86-a668f8cdb622').style.display = 'flex' </script> <table border=\"1\" class=\"dataframe\">\n",
       "  <thead>\n",
       "    <tr style=\"text-align: right;\">\n",
       "      <th></th>\n",
       "      <th>_id</th>\n",
       "      <th>kind</th>\n",
       "      <th>bt</th>\n",
       "      <th>tt</th>\n",
       "      <th>modelId</th>\n",
       "      <th>distance</th>\n",
       "      <th>closest_centroid</th>\n",
       "      <th>outlier_score</th>\n",
       "      <th>centroid_rareness</th>\n",
       "      <th>is_outlier</th>\n",
       "      <th>source</th>\n",
       "      <th>account</th>\n",
       "    </tr>\n",
       "  </thead>\n",
       "  <tbody>\n",
       "    <tr>\n",
       "      <th>0</th>\n",
       "      <td>5e3868eb61e48d0017ab68b0</td>\n",
       "      <td>OutlierModel</td>\n",
       "      <td>1580755178368101</td>\n",
       "      <td>0</td>\n",
       "      <td>5c1a7b648a6df285f82bdd4f</td>\n",
       "      <td>204311</td>\n",
       "      <td>82</td>\n",
       "      <td>90</td>\n",
       "      <td>4.26592</td>\n",
       "      <td>True</td>\n",
       "      <td>40FWF4_R-</td>\n",
       "      <td>analogdevices_dev</td>\n",
       "    </tr>\n",
       "    <tr>\n",
       "      <th>1</th>\n",
       "      <td>4e3868eb61e48d0017ab6898</td>\n",
       "      <td>OutlierModel</td>\n",
       "      <td>1580755178368156</td>\n",
       "      <td>0</td>\n",
       "      <td>5c1a7b648a6df285f82bdd4f</td>\n",
       "      <td>204316</td>\n",
       "      <td>80</td>\n",
       "      <td>10</td>\n",
       "      <td>4.26592</td>\n",
       "      <td>True</td>\n",
       "      <td>40FWF4_R-</td>\n",
       "      <td>analogdevices_dev</td>\n",
       "    </tr>\n",
       "    <tr>\n",
       "      <th>2</th>\n",
       "      <td>3e3868eb61e48d0017ab6800</td>\n",
       "      <td>OutlierModel</td>\n",
       "      <td>1580755178368101</td>\n",
       "      <td>0</td>\n",
       "      <td>5c1a7b648a6df285f82bdd4f</td>\n",
       "      <td>20400</td>\n",
       "      <td>17</td>\n",
       "      <td>9</td>\n",
       "      <td>3.10000</td>\n",
       "      <td>True</td>\n",
       "      <td>40FWF4_R-</td>\n",
       "      <td>analogdevices_prod</td>\n",
       "    </tr>\n",
       "  </tbody>\n",
       "</table></div>"
      ],
      "text/plain": [
       "                        _id          kind                bt  tt  \\\n",
       "0  5e3868eb61e48d0017ab68b0  OutlierModel  1580755178368101   0   \n",
       "1  4e3868eb61e48d0017ab6898  OutlierModel  1580755178368156   0   \n",
       "2  3e3868eb61e48d0017ab6800  OutlierModel  1580755178368101   0   \n",
       "\n",
       "                    modelId  distance  closest_centroid  outlier_score  \\\n",
       "0  5c1a7b648a6df285f82bdd4f    204311                82             90   \n",
       "1  5c1a7b648a6df285f82bdd4f    204316                80             10   \n",
       "2  5c1a7b648a6df285f82bdd4f     20400                17              9   \n",
       "\n",
       "   centroid_rareness  is_outlier     source             account  \n",
       "0            4.26592        True  40FWF4_R-   analogdevices_dev  \n",
       "1            4.26592        True  40FWF4_R-   analogdevices_dev  \n",
       "2            3.10000        True  40FWF4_R-  analogdevices_prod  "
      ]
     },
     "metadata": {},
     "execution_count": 33
    }
   ],
   "metadata": {}
  },
  {
   "cell_type": "code",
   "execution_count": null,
   "source": [],
   "outputs": [],
   "metadata": {}
  }
 ],
 "metadata": {
  "orig_nbformat": 4,
  "language_info": {
   "name": "python",
   "version": "3.8.11",
   "mimetype": "text/x-python",
   "codemirror_mode": {
    "name": "ipython",
    "version": 3
   },
   "pygments_lexer": "ipython3",
   "nbconvert_exporter": "python",
   "file_extension": ".py"
  },
  "kernelspec": {
   "name": "python3",
   "display_name": "Python 3.8.11 64-bit ('otopy38': conda)"
  },
  "interpreter": {
   "hash": "094c189d81026d09b06c18854d442a49d96e55830a4824cf8c6f41ec19877a82"
  }
 },
 "nbformat": 4,
 "nbformat_minor": 2
}